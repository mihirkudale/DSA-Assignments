{
  "nbformat": 4,
  "nbformat_minor": 0,
  "metadata": {
    "colab": {
      "provenance": []
    },
    "kernelspec": {
      "name": "python3",
      "display_name": "Python 3"
    },
    "language_info": {
      "name": "python"
    }
  },
  "cells": [
    {
      "cell_type": "markdown",
      "source": [
        "Choose a project from an internship portal and try to write a HLD and LLD based on the sample given in your portal for a respective project  ."
      ],
      "metadata": {
        "id": "W29LX31zuIV0"
      }
    },
    {
      "cell_type": "code",
      "execution_count": null,
      "metadata": {
        "id": "Z6fZyOdit7go"
      },
      "outputs": [],
      "source": [
        "## HLD\n",
        "\n",
        "link : https://github.com/Mitankshi/insurance-premium-prediction/blob/main/HLD%20(project).pdf"
      ]
    },
    {
      "cell_type": "code",
      "source": [
        "## LLD\n",
        "\n",
        "link: https://github.com/Mitankshi/insurance-premium-prediction/blob/main/LLD%20(project).pdf"
      ],
      "metadata": {
        "id": "Xohs2nyFwZmk"
      },
      "execution_count": null,
      "outputs": []
    }
  ]
}
